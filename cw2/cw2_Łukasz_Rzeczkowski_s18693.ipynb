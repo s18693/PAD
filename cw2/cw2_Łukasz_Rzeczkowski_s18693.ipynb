{
  "cells": [
    {
      "cell_type": "code",
      "source": [
        "# dodałem drugi raz - zmieniłem sposób odczytywania długości"
      ],
      "metadata": {
        "id": "1WKwVB5FbwMG"
      },
      "execution_count": 18,
      "outputs": []
    },
    {
      "cell_type": "markdown",
      "source": [
        "imports"
      ],
      "metadata": {
        "id": "rk9XPhNpqDB3"
      }
    },
    {
      "cell_type": "code",
      "source": [
        "import numpy as np\n",
        "import pandas as pd"
      ],
      "metadata": {
        "id": "ud-i-3hYqJLj"
      },
      "execution_count": 2,
      "outputs": []
    },
    {
      "cell_type": "markdown",
      "metadata": {
        "id": "DC0LLTMTpWRI"
      },
      "source": [
        "Cw1 - wzrost prezydentów USA"
      ]
    },
    {
      "cell_type": "code",
      "execution_count": 3,
      "metadata": {
        "id": "z3xCs5QHpWRL",
        "colab": {
          "base_uri": "https://localhost:8080/"
        },
        "outputId": "2d2786fe-d5ac-4131-ab30-d98d994899bd"
      },
      "outputs": [
        {
          "output_type": "stream",
          "name": "stdout",
          "text": [
            "[189 170 189 163 183 171 185 168 173 183 173 173 175 178 183 193 178 173\n",
            " 174 183 183 168 170 178 182 180 183 178 182 188 175 179 183 193 182 183\n",
            " 177 185 188 188 182 185]\n"
          ]
        }
      ],
      "source": [
        "data = pd.read_csv('president_heights.csv')\n",
        "heights = np.array(data['height(cm)'])\n",
        "print(heights)"
      ]
    },
    {
      "cell_type": "code",
      "source": [
        "# możemy użyć np.mena(heights) lub heights.mean() ponieważ jest to numpy array\n",
        "print(\"Mean height:       \", np.mean(heights))\n",
        "print(\"Standard deviation:\", np.std(heights))\n",
        "print(\"Minimum height:    \", np.min(heights))\n",
        "print(\"Maximum height:    \", np.max(heights))"
      ],
      "metadata": {
        "colab": {
          "base_uri": "https://localhost:8080/"
        },
        "id": "1RLY9suRrFps",
        "outputId": "5ed46aef-f96d-4a60-b1d4-495c06a86728"
      },
      "execution_count": 4,
      "outputs": [
        {
          "output_type": "stream",
          "name": "stdout",
          "text": [
            "Mean height:        179.73809523809524\n",
            "Standard deviation: 6.931843442745892\n",
            "Minimum height:     163\n",
            "Maximum height:     193\n"
          ]
        }
      ]
    },
    {
      "cell_type": "code",
      "source": [
        "# w taki sposób jest bardziej przejżyste\n",
        "print(\"Mean height:       \", heights.mean())\n",
        "print(\"Standard deviation:\", heights.std())\n",
        "print(\"Minimum height:    \", heights.min())\n",
        "print(\"Maximum height:    \", heights.max())"
      ],
      "metadata": {
        "colab": {
          "base_uri": "https://localhost:8080/"
        },
        "id": "vXhxtXHfiZV0",
        "outputId": "b8335756-1ae8-4459-e019-f464ab77cc13"
      },
      "execution_count": 5,
      "outputs": [
        {
          "output_type": "stream",
          "name": "stdout",
          "text": [
            "Mean height:        179.73809523809524\n",
            "Standard deviation: 6.931843442745892\n",
            "Minimum height:     163\n",
            "Maximum height:     193\n"
          ]
        }
      ]
    },
    {
      "cell_type": "code",
      "source": [
        "print(\"25th percentile:   \", np.percentile(heights, 25))\n",
        "print(\"Median:            \", np.median(heights))\n",
        "print(\"75th percentile:   \", np.percentile(heights, 75))"
      ],
      "metadata": {
        "colab": {
          "base_uri": "https://localhost:8080/"
        },
        "id": "Qyo8w2IQrMaJ",
        "outputId": "1089d8b0-756b-4824-ac5c-62b732aa7ece"
      },
      "execution_count": 6,
      "outputs": [
        {
          "output_type": "stream",
          "name": "stdout",
          "text": [
            "25th percentile:    174.25\n",
            "Median:             182.0\n",
            "75th percentile:    183.0\n"
          ]
        }
      ]
    },
    {
      "cell_type": "markdown",
      "source": [
        "Cw2 - Wgraj dane z pliku Zadanie_2.csv"
      ],
      "metadata": {
        "id": "hDCfE0Wgu14s"
      }
    },
    {
      "cell_type": "code",
      "source": [
        "# data = pd.read_csv('Zadanie_2.csv', sep=';')\n",
        "data2 = np.genfromtxt('Zadanie_2.csv', delimiter=';')\n",
        "print(data2)"
      ],
      "metadata": {
        "colab": {
          "base_uri": "https://localhost:8080/"
        },
        "id": "nQlPe01tvCvp",
        "outputId": "c3f5de9e-ad99-417b-8bf0-d66e2e9ecc5f"
      },
      "execution_count": 7,
      "outputs": [
        {
          "output_type": "stream",
          "name": "stdout",
          "text": [
            "[[  1.   2.  15. -59.   9.   3.  75.   6.   7.   1.]\n",
            " [  0.   5.   0.   4.   6.  16.  44.   7.   1.   1.]\n",
            " [  7.  14.   3. -10.   9.  15.  73.   8.   2.   9.]\n",
            " [  1.   5.  15. -54.   5.  15.  35.   8.   6.   4.]\n",
            " [  0.   8.   5. -18.   7.  16.  91.   6.   7.   9.]\n",
            " [  7.  18.  23. -90.   4.   8.  31.   0.   1.   7.]\n",
            " [  2.   8.  20. -72.   4.   1.  91.   9.   4.   4.]\n",
            " [  4.  12.  18. -65.   6.   9.  76.   4.   9.   9.]\n",
            " [  7.  15.  13. -52.   5.   7.  54.   2.   7.   0.]\n",
            " [  2.   9.  15. -56.   6.   1.  98.   4.   8.   4.]]\n"
          ]
        }
      ]
    },
    {
      "cell_type": "markdown",
      "source": [
        "a) wektory własne, oraz wartości własne"
      ],
      "metadata": {
        "id": "gLQREQB4u9Oa"
      }
    },
    {
      "cell_type": "code",
      "source": [
        "w, v = np.linalg.eig(data2)\n",
        "print(w)\n",
        "print('---')\n",
        "print(v)"
      ],
      "metadata": {
        "colab": {
          "base_uri": "https://localhost:8080/"
        },
        "id": "8TckboHVwrcd",
        "outputId": "29989054-f889-47c0-faf0-b5fa9450ab60"
      },
      "execution_count": 8,
      "outputs": [
        {
          "output_type": "stream",
          "name": "stdout",
          "text": [
            "[104.34960192 +0.j         -23.35660516+18.84992811j\n",
            " -23.35660516-18.84992811j  15.92989017 +0.j\n",
            "  -4.99456452 +0.j           0.35205717 +5.80125175j\n",
            "   0.35205717 -5.80125175j  -1.03383491 +0.j\n",
            "   3.87900166 +1.42651533j   3.87900166 -1.42651533j]\n",
            "---\n",
            "[[-0.29000475+0.j         -0.07545445+0.07743149j -0.07545445-0.07743149j\n",
            "  -0.03544485+0.j          0.42681634+0.j         -0.22172831-0.29869259j\n",
            "  -0.22172831+0.29869259j  0.41343726+0.j         -0.28670255+0.21891569j\n",
            "  -0.28670255-0.21891569j]\n",
            " [-0.24163153+0.j          0.41229621+0.09197324j  0.41229621-0.09197324j\n",
            "   0.45873475+0.j         -0.27056206+0.j         -0.01331344+0.1422557j\n",
            "  -0.01331344-0.1422557j  -0.31591047+0.j          0.41954481-0.10561864j\n",
            "   0.41954481+0.10561864j]\n",
            " [-0.41060573+0.j          0.37509638-0.00960818j  0.37509638+0.00960818j\n",
            "   0.64067986+0.j         -0.37967609+0.j         -0.60525232+0.j\n",
            "  -0.60525232-0.j          0.6457768 +0.j          0.63631555+0.j\n",
            "   0.63631555-0.j        ]\n",
            " [-0.18899971+0.j         -0.05624951+0.174848j   -0.05624951-0.174848j\n",
            "   0.25174536+0.j         -0.07625465+0.j         -0.14870016-0.00795735j\n",
            "  -0.14870016+0.00795735j  0.15206852+0.j          0.21373907+0.00228636j\n",
            "   0.21373907-0.00228636j]\n",
            " [-0.42862199+0.j          0.47707538+0.14580554j  0.47707538-0.14580554j\n",
            "   0.39445834+0.j         -0.69542141+0.j          0.07336021-0.43070469j\n",
            "   0.07336021+0.43070469j -0.25948775+0.j          0.20250102-0.00411374j\n",
            "   0.20250102+0.00411374j]\n",
            " [-0.14730562+0.j         -0.57352911+0.j         -0.57352911-0.j\n",
            "   0.10071325+0.j          0.30158403+0.j         -0.04758838+0.12911829j\n",
            "  -0.04758838-0.12911829j  0.21274791+0.j         -0.1503483 +0.03452906j\n",
            "  -0.1503483 -0.03452906j]\n",
            " [-0.34660607+0.j         -0.13987374+0.06837303j -0.13987374-0.06837303j\n",
            "  -0.04800705+0.j          0.06798106+0.j          0.00512204+0.04215641j\n",
            "   0.00512204-0.04215641j  0.05365357+0.j         -0.0534517 +0.00550802j\n",
            "  -0.0534517 -0.00550802j]\n",
            " [-0.34919853+0.j         -0.08414467+0.07749664j -0.08414467-0.07749664j\n",
            "   0.25925893+0.j         -0.10039982+0.j         -0.06761437-0.25584347j\n",
            "  -0.06761437+0.25584347j -0.38214447+0.j          0.29485109-0.01300678j\n",
            "   0.29485109+0.01300678j]\n",
            " [-0.2440048 +0.j         -0.13777908+0.00402196j -0.13777908-0.00402196j\n",
            "   0.27709282+0.j         -0.00524365+0.j          0.21866893+0.04463336j\n",
            "   0.21866893-0.04463336j -0.12045798+0.j          0.27558332+0.02285482j\n",
            "   0.27558332-0.02285482j]\n",
            " [-0.38231403+0.j         -0.00476199+0.03456836j -0.00476199-0.03456836j\n",
            "   0.04918165+0.j          0.07322815+0.j          0.1819345 -0.29687727j\n",
            "   0.1819345 +0.29687727j -0.11445044+0.j          0.02830199+0.00579727j\n",
            "   0.02830199-0.00579727j]]\n"
          ]
        }
      ]
    },
    {
      "cell_type": "markdown",
      "source": [
        "b) macierz odwrotna"
      ],
      "metadata": {
        "id": "xYbFboS_xnTZ"
      }
    },
    {
      "cell_type": "code",
      "source": [
        "np.linalg.inv(data2)"
      ],
      "metadata": {
        "colab": {
          "base_uri": "https://localhost:8080/"
        },
        "id": "uxO0LPdSxx0D",
        "outputId": "eef8dd00-87e7-445f-9bd9-03ebb567ebd6"
      },
      "execution_count": 9,
      "outputs": [
        {
          "output_type": "execute_result",
          "data": {
            "text/plain": [
              "array([[ 0.47461371,  0.13269253, -0.24726695, -0.82965177,  0.28250384,\n",
              "        -0.17012825,  0.58274426,  0.83686705,  0.4146721 , -1.56942847],\n",
              "       [-0.38032531, -0.11226789,  0.23216372,  0.58853747, -0.2508954 ,\n",
              "         0.10174485, -0.40729564, -0.58325689, -0.2335154 ,  1.11832726],\n",
              "       [ 0.13559662,  0.58950334, -0.24709855, -0.58789838, -0.30170699,\n",
              "        -0.12721938,  0.23740295,  1.01003036, -0.02151387, -0.64590149],\n",
              "       [ 0.01425207,  0.14570726, -0.04557569, -0.12721972, -0.08945184,\n",
              "        -0.03756624,  0.03910376,  0.23606066, -0.01436771, -0.11345749],\n",
              "       [-0.09473246,  0.01725249,  0.19145597,  0.32960274, -0.28626296,\n",
              "         0.08348529, -0.37577603, -0.27295934, -0.25855803,  0.74691827],\n",
              "       [ 0.16387032,  0.10075684, -0.15404907, -0.29794662,  0.16916877,\n",
              "        -0.02827782,  0.20469921,  0.28036265,  0.15086178, -0.5882585 ],\n",
              "       [ 0.04288003,  0.02246462, -0.0366803 , -0.09024915,  0.04322146,\n",
              "        -0.01047861,  0.06167348,  0.07009721,  0.0367806 , -0.14185925],\n",
              "       [-0.26858433, -0.21167346,  0.25168367,  0.55607234, -0.16804333,\n",
              "         0.01066975, -0.22435849, -0.52957038, -0.15757224,  0.77302113],\n",
              "       [-0.15583541, -0.13041404,  0.0984558 ,  0.3150966 , -0.09916278,\n",
              "        -0.04426337, -0.20832614, -0.18404388, -0.04309498,  0.45794224],\n",
              "       [-0.05970783, -0.11342903,  0.09122544,  0.11908074, -0.00311646,\n",
              "         0.02370807, -0.07526552, -0.06924544, -0.10963836,  0.16553689]])"
            ]
          },
          "metadata": {},
          "execution_count": 9
        }
      ]
    },
    {
      "cell_type": "markdown",
      "source": [
        "Cw3 - Opady"
      ],
      "metadata": {
        "id": "X80MFQgkwMEY"
      }
    },
    {
      "cell_type": "code",
      "source": [
        "# use pandas to extract rainfall inches as a NumPy array\n",
        "rainfall = pd.read_csv('Seattle2014.csv')['PRCP'].values\n",
        "inches = rainfall / 254.0\n",
        "#lenght of array\n",
        "inches.shape\n"
      ],
      "metadata": {
        "colab": {
          "base_uri": "https://localhost:8080/"
        },
        "id": "KnXFx031wPQG",
        "outputId": "cec349cf-12ec-473d-e365-aef80e5d1fe9"
      },
      "execution_count": 10,
      "outputs": [
        {
          "output_type": "execute_result",
          "data": {
            "text/plain": [
              "(365,)"
            ]
          },
          "metadata": {},
          "execution_count": 10
        }
      ]
    },
    {
      "cell_type": "code",
      "source": [
        "# get ONLY number of elements\n",
        "inches.shape[0]"
      ],
      "metadata": {
        "colab": {
          "base_uri": "https://localhost:8080/"
        },
        "id": "Nf7kJdO-a5UR",
        "outputId": "942b55b6-9913-482b-9b05-ed47429a460e"
      },
      "execution_count": 17,
      "outputs": [
        {
          "output_type": "execute_result",
          "data": {
            "text/plain": [
              "365"
            ]
          },
          "metadata": {},
          "execution_count": 17
        }
      ]
    },
    {
      "cell_type": "code",
      "source": [
        "%matplotlib inline\n",
        "import matplotlib.pyplot as plt\n",
        "import seaborn; \n",
        "seaborn.set()\n",
        "plt.hist(inches, 15);\n"
      ],
      "metadata": {
        "colab": {
          "base_uri": "https://localhost:8080/",
          "height": 268
        },
        "id": "1PoxiNUC4aRY",
        "outputId": "e9239f51-52ae-41b5-f8fd-331d99b9e173"
      },
      "execution_count": null,
      "outputs": [
        {
          "output_type": "display_data",
          "data": {
            "text/plain": [
              "<Figure size 432x288 with 1 Axes>"
            ],
            "image/png": "[encoded data removed]"
          },
          "metadata": {}
        }
      ]
    },
    {
      "cell_type": "markdown",
      "source": [
        "a"
      ],
      "metadata": {
        "id": "4O_l90uj7hQu"
      }
    },
    {
      "cell_type": "code",
      "source": [
        "rainyDays = inches[inches > 0]\n",
        "print(\"Number days without rain:      \", inches[inches <= 0].shape[0])\n",
        "print(\"Number days with rain:         \", inches[inches > 0].shape[0])\n",
        "print(\"Days with more than 0.5 inches:\", inches[inches > 0.5].shape[0])\n",
        "print(\"Rainy days with < 0.2 inches  :\", inches[np.where((inches > 0) & (inches < 0.2))].shape[0])\n",
        "print(\"Rainy days with < 0.2 inches  :\", rainyDays[rainyDays < 0.2].shape[0])\n",
        "print(\"Rainy days with < 0.2 inches  :\", inches[inches > 0][inches[inches > 0] < 0.2].shape[0])\n",
        "print(\"Rainy days with < 0.2 inches  :\", inches[(inches > 0) & (inches < 0.2)].shape[0])\n",
        "# sprawdzałem kilka metod"
      ],
      "metadata": {
        "colab": {
          "base_uri": "https://localhost:8080/"
        },
        "id": "81VYJ01o7jpQ",
        "outputId": "20fedfa8-9b44-441b-e09b-ccfcf009fcaa"
      },
      "execution_count": 13,
      "outputs": [
        {
          "output_type": "stream",
          "name": "stdout",
          "text": [
            "Number days without rain:       215\n",
            "Number days with rain:          150\n",
            "Days with more than 0.5 inches: 37\n",
            "Rainy days with < 0.2 inches  : 75\n",
            "Rainy days with < 0.2 inches  : 75\n",
            "Rainy days with < 0.2 inches  : 75\n",
            "Rainy days with < 0.2 inches  : 75\n"
          ]
        }
      ]
    },
    {
      "cell_type": "code",
      "source": [
        "rainyDays = inches[inches > 0]\n",
        "print(\"Number days without rain:      \", inches[inches <= 0].shape[0])\n",
        "print(\"Number days with rain:         \", inches[inches > 0].shape[0])\n",
        "print(\"Days with more than 0.5 inches:\", inches[inches > 0.5].shape[0])\n",
        "print(\"Rainy days with < 0.2 inches  :\", inches[np.where((inches > 0) & (inches < 0.2))].shape[0])\n",
        "print(\"Rainy days with < 0.2 inches  :\", rainyDays[rainyDays < 0.2].shape[0])\n",
        "print(\"Rainy days with < 0.2 inches  :\", inches[inches > 0][inches[inches > 0] < 0.2].shape[0])\n",
        "print(\"Rainy days with < 0.2 inches  :\", inches[(inches > 0) & (inches < 0.2)].shape[0])"
      ],
      "metadata": {
        "colab": {
          "base_uri": "https://localhost:8080/"
        },
        "id": "wmkh3noZaq17",
        "outputId": "377e772e-2667-413c-9f63-229e4fbe3587"
      },
      "execution_count": 15,
      "outputs": [
        {
          "output_type": "stream",
          "name": "stdout",
          "text": [
            "Number days without rain:       215\n",
            "Number days with rain:          150\n",
            "Days with more than 0.5 inches: 37\n",
            "Rainy days with < 0.2 inches  : 75\n",
            "Rainy days with < 0.2 inches  : 75\n",
            "Rainy days with < 0.2 inches  : 75\n",
            "Rainy days with < 0.2 inches  : 75\n"
          ]
        }
      ]
    },
    {
      "cell_type": "markdown",
      "source": [
        "b"
      ],
      "metadata": {
        "id": "yUxfw53N-SOP"
      }
    },
    {
      "cell_type": "code",
      "source": [
        "noSummerDay = np.concatenate((inches[:172], inches[262:]))\n",
        "\n",
        "print(\"Median precip on rainy days in 2014 (inches):   \", np.median(inches[inches > 0]))\n",
        "print(\"Median precip on summer days in 2014 (inches):  \", np.median(inches[np.where(inches[172:262] > 0)]))\n",
        "print(\"Maximum precip on summer days in 2014 (inches): \", np.max((inches[np.where(inches[172:262] > 0)])))\n",
        "print(\"Median precip on non-summer rainy days (inches):\", np.median(noSummerDay[noSummerDay > 0]))"
      ],
      "metadata": {
        "colab": {
          "base_uri": "https://localhost:8080/"
        },
        "id": "JErIrAZf-Ubs",
        "outputId": "da318584-f762-4fa3-ce95-c0ff70c80bbd"
      },
      "execution_count": null,
      "outputs": [
        {
          "output_type": "stream",
          "name": "stdout",
          "text": [
            "Median precip on rainy days in 2014 (inches):    0.19488188976377951\n",
            "Median precip on summer days in 2014 (inches):   0.10433070866141733\n",
            "Maximum precip on summer days in 2014 (inches):  0.6692913385826772\n",
            "Median precip on non-summer rainy days (inches): 0.20078740157480315\n"
          ]
        }
      ]
    },
    {
      "cell_type": "markdown",
      "source": [
        "Cw4"
      ],
      "metadata": {
        "id": "Okzc-1HHd20t"
      }
    },
    {
      "cell_type": "code",
      "source": [
        "a = np.array([0,3,2,5])\n",
        "b = np.array([0,3,1,4])"
      ],
      "metadata": {
        "id": "LnNxhJRwd608"
      },
      "execution_count": null,
      "outputs": []
    },
    {
      "cell_type": "code",
      "source": [
        "# dodawanie\n",
        "np.add(a , b)"
      ],
      "metadata": {
        "colab": {
          "base_uri": "https://localhost:8080/"
        },
        "id": "-yAmO-eaeFxJ",
        "outputId": "51704c59-3531-498a-fdc4-24f10dce7f59"
      },
      "execution_count": null,
      "outputs": [
        {
          "output_type": "execute_result",
          "data": {
            "text/plain": [
              "array([0, 6, 3, 9])"
            ]
          },
          "metadata": {},
          "execution_count": 273
        }
      ]
    },
    {
      "cell_type": "code",
      "source": [
        "# odejmowanie\n",
        "np.subtract(a, b)"
      ],
      "metadata": {
        "colab": {
          "base_uri": "https://localhost:8080/"
        },
        "id": "FBpOamZpet2f",
        "outputId": "420e88f6-f73e-4ea3-b20e-dd11623607a2"
      },
      "execution_count": null,
      "outputs": [
        {
          "output_type": "execute_result",
          "data": {
            "text/plain": [
              "array([0, 0, 1, 1])"
            ]
          },
          "metadata": {},
          "execution_count": 274
        }
      ]
    },
    {
      "cell_type": "code",
      "source": [
        "# pomnożone przez 4\n",
        "np.multiply(a, 4)"
      ],
      "metadata": {
        "colab": {
          "base_uri": "https://localhost:8080/"
        },
        "id": "j7CpZXxve4Nb",
        "outputId": "6c3797e9-c879-47de-ed92-122541cf64e0"
      },
      "execution_count": null,
      "outputs": [
        {
          "output_type": "execute_result",
          "data": {
            "text/plain": [
              "array([ 0, 12,  8, 20])"
            ]
          },
          "metadata": {},
          "execution_count": 275
        }
      ]
    },
    {
      "cell_type": "code",
      "source": [
        "# iloczyn skalarny A i B\n",
        "# a1 * b1 + a2 * b2\n",
        "np.sum(a * b)"
      ],
      "metadata": {
        "colab": {
          "base_uri": "https://localhost:8080/"
        },
        "id": "ynFuf5W-fHvw",
        "outputId": "44f3dfa7-3712-4d9d-ba7c-7935173f6b68"
      },
      "execution_count": null,
      "outputs": [
        {
          "output_type": "execute_result",
          "data": {
            "text/plain": [
              "31"
            ]
          },
          "metadata": {},
          "execution_count": 277
        }
      ]
    },
    {
      "cell_type": "code",
      "source": [
        "# dot product\n",
        "np.dot(a, b)"
      ],
      "metadata": {
        "colab": {
          "base_uri": "https://localhost:8080/"
        },
        "id": "GiWJblOdhCRY",
        "outputId": "240f2caa-9072-4e87-ae51-9d5d7d1af478"
      },
      "execution_count": null,
      "outputs": [
        {
          "output_type": "execute_result",
          "data": {
            "text/plain": [
              "31"
            ]
          },
          "metadata": {},
          "execution_count": 278
        }
      ]
    },
    {
      "cell_type": "code",
      "source": [
        "# duługość wektora B - musi być zapisany jako array a nie lista\n",
        "# suma kwadratów pod pierwiastkiem\n",
        "np.sqrt(np.sum(b ** 2))"
      ],
      "metadata": {
        "colab": {
          "base_uri": "https://localhost:8080/"
        },
        "id": "-Qm7YmlefQZE",
        "outputId": "1f46a090-64e4-40b3-e74e-56261f96b5fc"
      },
      "execution_count": null,
      "outputs": [
        {
          "output_type": "execute_result",
          "data": {
            "text/plain": [
              "5.0990195135927845"
            ]
          },
          "metadata": {},
          "execution_count": 276
        }
      ]
    }
  ],
  "metadata": {
    "colab": {
      "collapsed_sections": [],
      "provenance": []
    },
    "kernelspec": {
      "display_name": "Python 3.10.8 64-bit (microsoft store)",
      "language": "python",
      "name": "python3"
    },
    "language_info": {
      "codemirror_mode": {
        "name": "ipython",
        "version": 3
      },
      "file_extension": ".py",
      "mimetype": "text/x-python",
      "name": "python",
      "nbconvert_exporter": "python",
      "pygments_lexer": "ipython3",
      "version": "3.10.8"
    },
    "vscode": {
      "interpreter": {
        "hash": "d6ffbdf4649e03bc377de43527879b95a759b7dee4e606090511b5495193fdee"
      }
    }
  },
  "nbformat": 4,
  "nbformat_minor": 0
}